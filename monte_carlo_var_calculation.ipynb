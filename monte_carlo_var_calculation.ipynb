{
  "nbformat": 4,
  "nbformat_minor": 0,
  "metadata": {
    "colab": {
      "provenance": []
    },
    "kernelspec": {
      "name": "python3",
      "display_name": "Python 3"
    },
    "language_info": {
      "name": "python"
    }
  },
  "cells": [
    {
      "cell_type": "code",
      "source": [
        "import numpy as np\n",
        "import pandas as pd\n",
        "import matplotlib.pyplot as plt\n",
        "from scipy.stats import norm\n",
        "\n",
        "def calculate_var_monte_carlo(returns, num_simulations=10000, confidence_level=0.95):\n",
        "    \"\"\"\n",
        "    Estimate Value at Risk (VaR) using the Monte Carlo simulation method.\n",
        "\n",
        "    Parameters:\n",
        "    - returns (pd.Series): Series of historical returns for the portfolio.\n",
        "    - num_simulations (int): Number of simulations to perform.\n",
        "    - confidence_level (float): Desired confidence level for VaR (e.g., 0.95 for 95% confidence).\n",
        "\n",
        "    Returns:\n",
        "    - var (float): The computed Value at Risk (VaR).\n",
        "    \"\"\"\n",
        "    if not isinstance(returns, pd.Series):\n",
        "        raise TypeError(\"The returns input must be a pandas Series.\")\n",
        "\n",
        "    # Compute mean and standard deviation from historical returns\n",
        "    mean_return = returns.mean()\n",
        "    std_return = returns.std()\n",
        "\n",
        "    # Generate simulated returns using normal distribution\n",
        "    simulated_returns = np.random.normal(loc=mean_return, scale=std_return, size=num_simulations)\n",
        "\n",
        "    # Calculate the VaR\n",
        "    var = np.percentile(simulated_returns, (1 - confidence_level) * 100)\n",
        "\n",
        "    return var\n",
        "\n",
        "def plot_simulated_returns(simulated_returns, var, confidence_level):\n",
        "    \"\"\"\n",
        "    Create a histogram of simulated returns and indicate the VaR on the plot.\n",
        "\n",
        "    Parameters:\n",
        "    - simulated_returns (np.array): Array of simulated returns from Monte Carlo.\n",
        "    - var (float): The computed VaR.\n",
        "    - confidence_level (float): The confidence level for VaR calculation.\n",
        "    \"\"\"\n",
        "    plt.figure(figsize=(12, 6))\n",
        "    plt.hist(simulated_returns, bins=50, alpha=0.6, color='blue', edgecolor='black')\n",
        "    plt.axvline(x=var, color='red', linestyle='--', label=f'VaR ({confidence_level*100}%)')\n",
        "    plt.title('Histogram of Simulated Returns with Value at Risk (VaR)')\n",
        "    plt.xlabel('Returns')\n",
        "    plt.ylabel('Frequency')\n",
        "    plt.legend()\n",
        "    plt.grid(True)\n",
        "    plt.show()\n",
        "\n",
        "# Generate example data\n",
        "np.random.seed(42)\n",
        "dates = pd.date_range(start='2023-01-01', periods=100, freq='D')\n",
        "returns = pd.Series(np.random.normal(loc=0.001, scale=0.02, size=len(dates)), index=dates)\n",
        "\n",
        "# Monte Carlo simulation parameters\n",
        "num_simulations = 10000\n",
        "confidence_level = 0.95\n",
        "\n",
        "# Estimate VaR using Monte Carlo simulation\n",
        "var = calculate_var_monte_carlo(returns, num_simulations, confidence_level)\n",
        "\n",
        "# Print the VaR result\n",
        "print(f\"Estimated Value at Risk (VaR) at {confidence_level*100}% confidence level: {var:.4f}\")\n",
        "\n",
        "# Plot the histogram of simulated returns and VaR\n",
        "simulated_returns = np.random.normal(loc=returns.mean(), scale=returns.std(), size=num_simulations)\n",
        "plot_simulated_returns(simulated_returns, var, confidence_level)\n"
      ],
      "metadata": {
        "id": "R0Q3PFoRwxJM"
      },
      "execution_count": null,
      "outputs": []
    }
  ]
}